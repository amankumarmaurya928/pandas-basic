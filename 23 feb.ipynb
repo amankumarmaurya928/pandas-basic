{
 "cells": [
  {
   "cell_type": "code",
   "execution_count": 1,
   "id": "204e7661-7cc9-4560-bdc8-37bae8d831dd",
   "metadata": {},
   "outputs": [
    {
     "name": "stdout",
     "output_type": "stream",
     "text": [
      "0     4\n",
      "1     8\n",
      "2    15\n",
      "3    16\n",
      "4    23\n",
      "5    42\n",
      "dtype: int64\n"
     ]
    }
   ],
   "source": [
    "# Q1\n",
    "# pandas series\n",
    "import pandas as pd\n",
    "ds = pd.Series([4,8,15,16,23,42])\n",
    "print(ds)"
   ]
  },
  {
   "cell_type": "code",
   "execution_count": 2,
   "id": "03376cdf-1093-463b-8779-d710404f3f3a",
   "metadata": {},
   "outputs": [
    {
     "name": "stdout",
     "output_type": "stream",
     "text": [
      "0        ak\n",
      "1         5\n",
      "2        kr\n",
      "3       5.3\n",
      "4         9\n",
      "5      True\n",
      "6     hello\n",
      "7    pandas\n",
      "8     False\n",
      "9        10\n",
      "dtype: object\n"
     ]
    }
   ],
   "source": [
    "# Q2\n",
    "# variable with 10 elements in it\n",
    "a = [\"ak\",5,\"kr\",5.3,9,True,\"hello\",\"pandas\",\"False\",10]\n",
    "\n",
    "import pandas as pd\n",
    "x = pd.Series(a)\n",
    "print(x)"
   ]
  },
  {
   "cell_type": "code",
   "execution_count": 3,
   "id": "88305a5f-705d-476d-95da-35a9cc50342b",
   "metadata": {},
   "outputs": [
    {
     "name": "stdout",
     "output_type": "stream",
     "text": [
      "Name       Alice\n",
      "Age           25\n",
      "Gender    Female\n",
      "Name: 0, dtype: object\n"
     ]
    }
   ],
   "source": [
    "# Q3\n",
    "# create and print the dataframe of given data\n",
    "import pandas as pd\n",
    "\n",
    "data = {'Name': ['Alice','Bob','Claire'],\n",
    "\n",
    "        'Age': [25, 30, 27],\n",
    "\n",
    "        'Gender': ['Female','Male','Femaler']}\n",
    "\n",
    "df = pd.DataFrame(data)\n",
    "\n",
    "print(df.loc[0])"
   ]
  },
  {
   "cell_type": "code",
   "execution_count": 4,
   "id": "086b5d40-76ca-4a75-b83d-9afd84429719",
   "metadata": {},
   "outputs": [
    {
     "data": {
      "text/plain": [
       "pandas.core.frame.DataFrame"
      ]
     },
     "execution_count": 4,
     "metadata": {},
     "output_type": "execute_result"
    }
   ],
   "source": [
    "type(df)"
   ]
  },
  {
   "cell_type": "code",
   "execution_count": 5,
   "id": "fc00e8e9-73f9-43a3-892d-aacd40218066",
   "metadata": {},
   "outputs": [
    {
     "name": "stdout",
     "output_type": "stream",
     "text": [
      "Fruit series:\n",
      "a     apples\n",
      "b    oranges\n",
      "c    bananas\n",
      "dtype: object\n"
     ]
    }
   ],
   "source": [
    "# Q4\n",
    "# pandas data frame\n",
    "'''A pandas DataFrame is a two-dimensional data structure that can be thought of as a spreadsheet. \n",
    "   It can also be thought of as a collection of two or more series with common indices. \n",
    "'''\n",
    "# difference between data-frame and series\n",
    "'''Series can only contain single list with index,\n",
    "   whereas dataframe can be made of more than one series or we can say that a dataframe is a collection of series \n",
    "   that can be used to analyse the data\n",
    "'''\n",
    "# examples of series\n",
    "import pandas\n",
    "fruits = pandas.Series([\"apples\", \"oranges\", \"bananas\"], index=['a', 'b', 'c'])\n",
    "print(\"Fruit series:\")\n",
    "print(fruits)"
   ]
  },
  {
   "cell_type": "code",
   "execution_count": 6,
   "id": "b5fdb32b-632e-4cc6-a610-ee6abf24ef16",
   "metadata": {},
   "outputs": [
    {
     "name": "stdout",
     "output_type": "stream",
     "text": [
      "Dataframe with given indices:\n",
      "     Jack's        John's\n",
      "a   apples        guavas\n",
      "b  oranges         kiwis\n",
      "c  bananas  strawberries \n",
      "\n"
     ]
    }
   ],
   "source": [
    "# example of dataframe\n",
    "import pandas as pd\n",
    "fruits_jack = [\"apples\", \"oranges\", \"bananas\"]\n",
    "fruits_john = [\"guavas\", \"kiwis\", \"strawberries\"]\n",
    "index = [\"a\", \"b\", \"c\"]\n",
    "all_fruits = {\"Jack's\": fruits_jack, \"John's\": fruits_john}\n",
    "new_fruits = pd.DataFrame(all_fruits, index = index)\n",
    "print(\"Dataframe with given indices:\\n\", new_fruits, \"\\n\")"
   ]
  },
  {
   "cell_type": "code",
   "execution_count": 7,
   "id": "f4d84a41-ae9d-4df1-8db6-376474aef4a7",
   "metadata": {},
   "outputs": [
    {
     "data": {
      "text/html": [
       "<div>\n",
       "<style scoped>\n",
       "    .dataframe tbody tr th:only-of-type {\n",
       "        vertical-align: middle;\n",
       "    }\n",
       "\n",
       "    .dataframe tbody tr th {\n",
       "        vertical-align: top;\n",
       "    }\n",
       "\n",
       "    .dataframe thead th {\n",
       "        text-align: right;\n",
       "    }\n",
       "</style>\n",
       "<table border=\"1\" class=\"dataframe\">\n",
       "  <thead>\n",
       "    <tr style=\"text-align: right;\">\n",
       "      <th></th>\n",
       "      <th>Jack's</th>\n",
       "      <th>John's</th>\n",
       "    </tr>\n",
       "  </thead>\n",
       "  <tbody>\n",
       "    <tr>\n",
       "      <th>a</th>\n",
       "      <td>apples</td>\n",
       "      <td>guavas</td>\n",
       "    </tr>\n",
       "    <tr>\n",
       "      <th>b</th>\n",
       "      <td>oranges</td>\n",
       "      <td>kiwis</td>\n",
       "    </tr>\n",
       "  </tbody>\n",
       "</table>\n",
       "</div>"
      ],
      "text/plain": [
       "    Jack's  John's\n",
       "a   apples  guavas\n",
       "b  oranges   kiwis"
      ]
     },
     "execution_count": 7,
     "metadata": {},
     "output_type": "execute_result"
    }
   ],
   "source": [
    "# Q5\n",
    "# common functions you can use to manipulate data\n",
    "'''1.data.loc()\n",
    "   2.read()\n",
    "   3.column\n",
    "   4.head\n",
    "   5.tail\n",
    "   6.dtypes\n",
    "   '''\n",
    "#example\n",
    "new_fruits.head(2)"
   ]
  },
  {
   "cell_type": "code",
   "execution_count": 8,
   "id": "be52a08d-9211-4f08-ac29-5b0e514feeba",
   "metadata": {},
   "outputs": [
    {
     "data": {
      "text/plain": [
       "'Series  and plane is size immutable. '"
      ]
     },
     "execution_count": 8,
     "metadata": {},
     "output_type": "execute_result"
    }
   ],
   "source": [
    "# Q6\n",
    "'''the dataframe is mutable and provides great flexibility to work with.\n",
    "   '''\n",
    "'''Series  and plane is size immutable. '''"
   ]
  },
  {
   "cell_type": "code",
   "execution_count": 9,
   "id": "56bdd53e-56ae-4be4-903e-2d5e8796e65e",
   "metadata": {},
   "outputs": [
    {
     "name": "stdout",
     "output_type": "stream",
     "text": [
      "    course    fee  discount\n",
      "0    Spark  22000      1000\n",
      "1  PySpark  25000      2300\n",
      "2   Hadoop  23000      1000\n"
     ]
    }
   ],
   "source": [
    "# Q7\n",
    "# dataframe with multiplseries\n",
    "import pandas as pd\n",
    "\n",
    "courses = pd.Series([\"Spark\",\"PySpark\",\"Hadoop\"])\n",
    "fees = pd.Series([22000,25000,23000])\n",
    "discount  = pd.Series([1000,2300,1000])\n",
    "\n",
    "course_details={\"course\": courses, \"fee\": fees, \"discount\": discount}\n",
    "\n",
    "df=pd.DataFrame(course_details)\n",
    "print(df)"
   ]
  },
  {
   "cell_type": "code",
   "execution_count": null,
   "id": "9c240801-69fa-4926-8697-a561dd5e1537",
   "metadata": {},
   "outputs": [],
   "source": [
    "'''explaination :\n",
    "    1. create three series [cours,fee, and discount].\n",
    "    2. join all details in course_details\n",
    "    3. then use dataframe on course_details and store in df\n",
    "    4. then print(df)'''"
   ]
  }
 ],
 "metadata": {
  "kernelspec": {
   "display_name": "Python 3 (ipykernel)",
   "language": "python",
   "name": "python3"
  },
  "language_info": {
   "codemirror_mode": {
    "name": "ipython",
    "version": 3
   },
   "file_extension": ".py",
   "mimetype": "text/x-python",
   "name": "python",
   "nbconvert_exporter": "python",
   "pygments_lexer": "ipython3",
   "version": "3.10.8"
  }
 },
 "nbformat": 4,
 "nbformat_minor": 5
}
